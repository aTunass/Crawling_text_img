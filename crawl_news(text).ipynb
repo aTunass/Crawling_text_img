{
  "cells": [
    {
      "cell_type": "markdown",
      "metadata": {
        "id": "view-in-github",
        "colab_type": "text"
      },
      "source": [
        "<a href=\"https://colab.research.google.com/github/aTunass/Crawling_text_img/blob/main/crawl_news(text).ipynb\" target=\"_parent\"><img src=\"https://colab.research.google.com/assets/colab-badge.svg\" alt=\"Open In Colab\"/></a>"
      ]
    },
    {
      "cell_type": "markdown",
      "metadata": {
        "id": "fnSdNLI501FY"
      },
      "source": [
        "## **1. Import necessary libraries**"
      ]
    },
    {
      "cell_type": "markdown",
      "source": [
        "Lưu ý: khi dùng trên máy local, cần check phiên bản của chrome và chronium, đối với colab các phiên bản ubuntu 20.04 không có sự hỗ trợ của chronium, khi cài driver này từ bên ngoài sẽ chỉ dùng được khi có options headless"
      ],
      "metadata": {
        "id": "O-NPR_jl3t_G"
      }
    },
    {
      "cell_type": "code",
      "execution_count": 2,
      "metadata": {
        "id": "ah6jEEaxqjJY",
        "colab": {
          "base_uri": "https://localhost:8080/"
        },
        "outputId": "d5f7e663-c099-48cb-d63c-dc93868e74a5"
      },
      "outputs": [
        {
          "output_type": "stream",
          "name": "stdout",
          "text": [
            "Executing: /tmp/apt-key-gpghome.Gw2vmjnStM/gpg.1.sh --keyserver keyserver.ubuntu.com --recv-keys DCC9EFBF77E11517\n",
            "gpg: key DCC9EFBF77E11517: \"Debian Stable Release Key (10/buster) <debian-release@lists.debian.org>\" not changed\n",
            "gpg: Total number processed: 1\n",
            "gpg:              unchanged: 1\n",
            "Executing: /tmp/apt-key-gpghome.sgEwVoEwyz/gpg.1.sh --keyserver keyserver.ubuntu.com --recv-keys 648ACFD622F3D138\n",
            "gpg: key DC30D7C23CBBABEE: \"Debian Archive Automatic Signing Key (10/buster) <ftpmaster@debian.org>\" not changed\n",
            "gpg: Total number processed: 1\n",
            "gpg:              unchanged: 1\n",
            "Executing: /tmp/apt-key-gpghome.ka74kT7wFq/gpg.1.sh --keyserver keyserver.ubuntu.com --recv-keys 112695A0E562B32A\n",
            "gpg: key 4DFAB270CAA96DFA: \"Debian Security Archive Automatic Signing Key (10/buster) <ftpmaster@debian.org>\" not changed\n",
            "gpg: Total number processed: 1\n",
            "gpg:              unchanged: 1\n",
            "gpg: cannot open '/dev/tty': No such device or address\n",
            "Warning: apt-key output should not be parsed (stdout is not a terminal)\n",
            "gpg: [stdout]: write error: Broken pipe\n",
            "gpg: filter_flush failed on close: Broken pipe\n",
            "gpg: cannot open '/dev/tty': No such device or address\n",
            "Warning: apt-key output should not be parsed (stdout is not a terminal)\n",
            "gpg: [stdout]: write error: Broken pipe\n",
            "gpg: filter_flush failed on close: Broken pipe\n",
            "gpg: cannot open '/dev/tty': No such device or address\n",
            "Warning: apt-key output should not be parsed (stdout is not a terminal)\n",
            "gpg: [stdout]: write error: Broken pipe\n",
            "gpg: filter_flush failed on close: Broken pipe\n",
            "Hit:1 http://deb.debian.org/debian buster InRelease\n",
            "Hit:2 http://deb.debian.org/debian buster-updates InRelease\n",
            "Get:3 http://deb.debian.org/debian-security buster/updates InRelease [34.8 kB]\n",
            "Hit:4 https://cloud.r-project.org/bin/linux/ubuntu focal-cran40/ InRelease\n",
            "Hit:5 https://developer.download.nvidia.com/compute/cuda/repos/ubuntu2004/x86_64  InRelease\n",
            "Get:6 http://security.ubuntu.com/ubuntu focal-security InRelease [114 kB]\n",
            "Hit:7 http://archive.ubuntu.com/ubuntu focal InRelease\n",
            "Hit:8 http://ppa.launchpad.net/c2d4u.team/c2d4u4.0+/ubuntu focal InRelease\n",
            "Get:9 http://archive.ubuntu.com/ubuntu focal-updates InRelease [114 kB]\n",
            "Get:10 http://deb.debian.org/debian-security buster/updates/main amd64 Packages [692 kB]\n",
            "Hit:11 http://ppa.launchpad.net/cran/libgit2/ubuntu focal InRelease\n",
            "Hit:12 http://ppa.launchpad.net/deadsnakes/ppa/ubuntu focal InRelease\n",
            "Get:13 http://archive.ubuntu.com/ubuntu focal-backports InRelease [108 kB]\n",
            "Get:14 http://ppa.launchpad.net/graphics-drivers/ppa/ubuntu focal InRelease [24.3 kB]\n",
            "Hit:15 http://ppa.launchpad.net/ubuntugis/ppa/ubuntu focal InRelease\n",
            "Get:16 http://security.ubuntu.com/ubuntu focal-security/universe amd64 Packages [1,074 kB]\n",
            "Get:17 http://ppa.launchpad.net/graphics-drivers/ppa/ubuntu focal/main amd64 Packages [43.1 kB]\n",
            "Fetched 2,204 kB in 2s (1,088 kB/s)\n",
            "Reading package lists... Done\n",
            "Reading package lists... Done\n",
            "Building dependency tree       \n",
            "Reading state information... Done\n",
            "chromium is already the newest version (90.0.4430.212-1~deb10u1).\n",
            "chromium-driver is already the newest version (90.0.4430.212-1~deb10u1).\n",
            "0 upgraded, 0 newly installed, 0 to remove and 14 not upgraded.\n",
            "Requirement already satisfied: selenium in /usr/local/lib/python3.10/dist-packages (4.10.0)\n",
            "Requirement already satisfied: urllib3[socks]<3,>=1.26 in /usr/local/lib/python3.10/dist-packages (from selenium) (1.26.16)\n",
            "Requirement already satisfied: trio~=0.17 in /usr/local/lib/python3.10/dist-packages (from selenium) (0.22.2)\n",
            "Requirement already satisfied: trio-websocket~=0.9 in /usr/local/lib/python3.10/dist-packages (from selenium) (0.10.3)\n",
            "Requirement already satisfied: certifi>=2021.10.8 in /usr/local/lib/python3.10/dist-packages (from selenium) (2023.5.7)\n",
            "Requirement already satisfied: attrs>=20.1.0 in /usr/local/lib/python3.10/dist-packages (from trio~=0.17->selenium) (23.1.0)\n",
            "Requirement already satisfied: sortedcontainers in /usr/local/lib/python3.10/dist-packages (from trio~=0.17->selenium) (2.4.0)\n",
            "Requirement already satisfied: idna in /usr/local/lib/python3.10/dist-packages (from trio~=0.17->selenium) (3.4)\n",
            "Requirement already satisfied: outcome in /usr/local/lib/python3.10/dist-packages (from trio~=0.17->selenium) (1.2.0)\n",
            "Requirement already satisfied: sniffio in /usr/local/lib/python3.10/dist-packages (from trio~=0.17->selenium) (1.3.0)\n",
            "Requirement already satisfied: exceptiongroup>=1.0.0rc9 in /usr/local/lib/python3.10/dist-packages (from trio~=0.17->selenium) (1.1.2)\n",
            "Requirement already satisfied: wsproto>=0.14 in /usr/local/lib/python3.10/dist-packages (from trio-websocket~=0.9->selenium) (1.2.0)\n",
            "Requirement already satisfied: PySocks!=1.5.7,<2.0,>=1.5.6 in /usr/local/lib/python3.10/dist-packages (from urllib3[socks]<3,>=1.26->selenium) (1.7.1)\n",
            "Requirement already satisfied: h11<1,>=0.9.0 in /usr/local/lib/python3.10/dist-packages (from wsproto>=0.14->trio-websocket~=0.9->selenium) (0.14.0)\n"
          ]
        },
        {
          "output_type": "execute_result",
          "data": {
            "text/plain": []
          },
          "metadata": {},
          "execution_count": 2
        }
      ],
      "source": [
        "%%shell\n",
        "# Ubuntu no longer distributes chromium-browser outside of snap\n",
        "#\n",
        "# Proposed solution: https://askubuntu.com/questions/1204571/how-to-install-chromium-without-snap\n",
        "\n",
        "# Add debian buster\n",
        "cat > /etc/apt/sources.list.d/debian.list <<'EOF'\n",
        "deb [arch=amd64 signed-by=/usr/share/keyrings/debian-buster.gpg] http://deb.debian.org/debian buster main\n",
        "deb [arch=amd64 signed-by=/usr/share/keyrings/debian-buster-updates.gpg] http://deb.debian.org/debian buster-updates main\n",
        "deb [arch=amd64 signed-by=/usr/share/keyrings/debian-security-buster.gpg] http://deb.debian.org/debian-security buster/updates main\n",
        "EOF\n",
        "\n",
        "# Add keys\n",
        "apt-key adv --keyserver keyserver.ubuntu.com --recv-keys DCC9EFBF77E11517\n",
        "apt-key adv --keyserver keyserver.ubuntu.com --recv-keys 648ACFD622F3D138\n",
        "apt-key adv --keyserver keyserver.ubuntu.com --recv-keys 112695A0E562B32A\n",
        "\n",
        "apt-key export 77E11517 | gpg --dearmour -o /usr/share/keyrings/debian-buster.gpg\n",
        "apt-key export 22F3D138 | gpg --dearmour -o /usr/share/keyrings/debian-buster-updates.gpg\n",
        "apt-key export E562B32A | gpg --dearmour -o /usr/share/keyrings/debian-security-buster.gpg\n",
        "\n",
        "# Prefer debian repo for chromium* packages only\n",
        "# Note the double-blank lines between entries\n",
        "cat > /etc/apt/preferences.d/chromium.pref << 'EOF'\n",
        "Package: *\n",
        "Pin: release a=eoan\n",
        "Pin-Priority: 500\n",
        "\n",
        "\n",
        "Package: *\n",
        "Pin: origin \"deb.debian.org\"\n",
        "Pin-Priority: 300\n",
        "\n",
        "\n",
        "Package: chromium*\n",
        "Pin: origin \"deb.debian.org\"\n",
        "Pin-Priority: 700\n",
        "EOF\n",
        "\n",
        "# Install chromium and chromium-driver\n",
        "apt-get update\n",
        "apt-get install chromium chromium-driver\n",
        "\n",
        "# Install selenium\n",
        "pip install selenium"
      ]
    },
    {
      "cell_type": "code",
      "execution_count": 3,
      "metadata": {
        "id": "s5zjbUowBamY"
      },
      "outputs": [],
      "source": [
        "import pandas as pd\n",
        "import os\n",
        "import requests\n",
        "import time\n",
        "import random\n",
        "\n",
        "from io import BytesIO\n",
        "from PIL import Image\n",
        "from tqdm import tqdm\n",
        "from selenium import webdriver\n",
        "from selenium.webdriver.common.by import By\n",
        "from selenium.webdriver.support.ui import WebDriverWait\n",
        "from selenium.webdriver.support import expected_conditions as EC\n",
        "from selenium.webdriver.chrome.service import Service"
      ]
    },
    {
      "cell_type": "code",
      "execution_count": 9,
      "metadata": {
        "id": "cQPGo43Nf8Hl"
      },
      "outputs": [],
      "source": [
        "from selenium import webdriver\n",
        "from selenium.webdriver.chrome.service import Service\n",
        "\n",
        "# Initialize google chrome browser\n",
        "service = Service(executable_path=\"chromedriver\")\n",
        "options = webdriver.ChromeOptions()\n",
        "options.add_argument('--headless')\n",
        "options.add_argument('--no-sandbox')\n",
        "options.add_argument('--disable-dev-shm-usage')\n",
        "driver = webdriver.Chrome(service=service, options=options)\n",
        "# url = 'https://www.python.org/'\n",
        "# driver.get(url)\n",
        "# print(driver.title)"
      ]
    },
    {
      "cell_type": "markdown",
      "metadata": {
        "id": "UM85N4Wj1Bgs"
      },
      "source": [
        "## **2. Crawl**"
      ]
    },
    {
      "cell_type": "code",
      "execution_count": 5,
      "metadata": {
        "id": "JNtQ4QAeqyp1",
        "colab": {
          "base_uri": "https://localhost:8080/"
        },
        "outputId": "ebee4299-64bd-4f9f-c637-a96e3d001a7b"
      },
      "outputs": [
        {
          "output_type": "stream",
          "name": "stderr",
          "text": [
            "100%|██████████| 2/2 [05:58<00:00, 179.41s/it]\n"
          ]
        }
      ],
      "source": [
        "\n",
        "\n",
        "# Create a folder for storing articles\n",
        "root_dir = './vn_news_corpus'\n",
        "os.makedirs(root_dir, exist_ok=True)\n",
        "n_pages = 1 # Change if you want more articles\n",
        "article_id = 0\n",
        "\n",
        "for page_idx in tqdm(range(n_pages)):\n",
        "    # Access to table page\n",
        "    main_url = f'https://vietnamnet.vn/thoi-su-page{page_idx}'\n",
        "    driver.get(main_url)\n",
        "\n",
        "    # Get list of articles (list of URLs)\n",
        "    news_lst_xpath = '//div[@class=\"topStory-15nd\"]/div/div[1]/a'\n",
        "    news_tags = driver.find_elements(\n",
        "        By.XPATH,\n",
        "        news_lst_xpath\n",
        "    )\n",
        "    news_page_urls = [\n",
        "        news_tag.get_attribute('href') \\\n",
        "            for news_tag in news_tags\n",
        "    ]\n",
        "\n",
        "    for news_page_url in news_page_urls:\n",
        "        # Access to article page\n",
        "        driver.get(news_page_url)\n",
        "        time.sleep(1)\n",
        "\n",
        "        # Try to get main content tag\n",
        "        main_content_xpath = '//div[@class=\"content-detail content-mobile-change\"]'\n",
        "        try:\n",
        "            main_content_tag = driver.find_element(\n",
        "                By.XPATH,\n",
        "                main_content_xpath\n",
        "            )\n",
        "        except:\n",
        "          main_content_xpath = '//div[@class=\"class=\"content-detail image-full-width content-mobile-change\"\"]'\n",
        "          try:\n",
        "              main_content_tag = driver.find_element(\n",
        "                  By.XPATH,\n",
        "                  main_content_xpath\n",
        "              )\n",
        "          except:\n",
        "            continue\n",
        "        # Ignore video article\n",
        "        video_content_xpath = '//div[@class=\"video-detail\"]'\n",
        "        try:\n",
        "            video_content_tag = main_content_tag.find_element(\n",
        "                By.XPATH,\n",
        "                video_content_xpath\n",
        "            )\n",
        "            continue\n",
        "        except:\n",
        "            pass\n",
        "        # Get title (h1 tag)\n",
        "        try:\n",
        "          title = main_content_tag.find_element(\n",
        "              By.TAG_NAME,\n",
        "              'h1'\n",
        "          ).text.strip()\n",
        "        except:\n",
        "            title = ''\n",
        "        # Get abstract (h2 tag)\n",
        "        try:\n",
        "          abstract = main_content_tag.find_element(\n",
        "              By.TAG_NAME,\n",
        "              'h2'\n",
        "          ).text.strip()\n",
        "        except:\n",
        "            abstract = ''\n",
        "        # Get author name (span tag)\n",
        "        try:\n",
        "            author_xpath = '//span[@class=\"article-detail-author-wrapper \"]'\n",
        "            author = main_content_tag.find_element(\n",
        "                By.XPATH,\n",
        "                author_xpath\n",
        "            ).text.strip()\n",
        "        except:\n",
        "            author = ''\n",
        "        # Get paragraphs (all p tags in div \"maincontent main-content\")\n",
        "        paragraphs_xpath = '//div[@class=\"maincontent main-content\"]/p'\n",
        "        paragraphs_tags = main_content_tag.find_elements(\n",
        "            By.XPATH,\n",
        "            paragraphs_xpath\n",
        "        )\n",
        "        paragraphs_lst = [\n",
        "            paragraphs_tag.text.strip() \\\n",
        "                for paragraphs_tag in paragraphs_tags\n",
        "        ]\n",
        "        paragraphs = ' '.join(paragraphs_lst)\n",
        "        # Combine title, abstract, authoor and paragraphs\n",
        "        final_content_lst = [title, abstract, paragraphs, author]\n",
        "        final_content = '\\n\\n'.join(final_content_lst)\n",
        "\n",
        "        # Save artile to .txt file\n",
        "        article_filename = f'article_{article_id:05d}.txt'\n",
        "        article_savepath = os.path.join(\n",
        "            root_dir,\n",
        "            article_filename\n",
        "        )\n",
        "        article_id += 1\n",
        "        with open(article_savepath, 'w') as f:\n",
        "            f.write(final_content)\n",
        "\n",
        "        # Move back to previous page\n",
        "        driver.back()"
      ]
    },
    {
      "cell_type": "code",
      "execution_count": 6,
      "metadata": {
        "colab": {
          "base_uri": "https://localhost:8080/"
        },
        "id": "mds2C8nVIKZq",
        "outputId": "06ccdcec-5eea-4f2e-b6a2-723f16e7f1d7"
      },
      "outputs": [
        {
          "output_type": "stream",
          "name": "stdout",
          "text": [
            "  adding: vn_news_corpus/ (stored 0%)\n",
            "  adding: vn_news_corpus/article_00015.txt (deflated 65%)\n",
            "  adding: vn_news_corpus/article_00021.txt (deflated 61%)\n",
            "  adding: vn_news_corpus/article_00001.txt (deflated 31%)\n",
            "  adding: vn_news_corpus/article_00017.txt (deflated 64%)\n",
            "  adding: vn_news_corpus/article_00026.txt (deflated 55%)\n",
            "  adding: vn_news_corpus/article_00002.txt (deflated 58%)\n",
            "  adding: vn_news_corpus/article_00006.txt (deflated 46%)\n",
            "  adding: vn_news_corpus/article_00003.txt (deflated 56%)\n",
            "  adding: vn_news_corpus/article_00025.txt (deflated 56%)\n",
            "  adding: vn_news_corpus/article_00012.txt (deflated 62%)\n",
            "  adding: vn_news_corpus/article_00024.txt (deflated 60%)\n",
            "  adding: vn_news_corpus/article_00000.txt (deflated 58%)\n",
            "  adding: vn_news_corpus/article_00009.txt (deflated 61%)\n",
            "  adding: vn_news_corpus/article_00013.txt (deflated 59%)\n",
            "  adding: vn_news_corpus/article_00023.txt (deflated 54%)\n",
            "  adding: vn_news_corpus/article_00020.txt (deflated 59%)\n",
            "  adding: vn_news_corpus/article_00011.txt (deflated 65%)\n",
            "  adding: vn_news_corpus/article_00022.txt (deflated 50%)\n",
            "  adding: vn_news_corpus/article_00018.txt (deflated 56%)\n",
            "  adding: vn_news_corpus/article_00007.txt (deflated 58%)\n",
            "  adding: vn_news_corpus/article_00014.txt (deflated 32%)\n",
            "  adding: vn_news_corpus/article_00016.txt (deflated 61%)\n",
            "  adding: vn_news_corpus/article_00005.txt (deflated 55%)\n",
            "  adding: vn_news_corpus/article_00010.txt (deflated 56%)\n",
            "  adding: vn_news_corpus/article_00008.txt (deflated 3%)\n",
            "  adding: vn_news_corpus/article_00019.txt (deflated 57%)\n",
            "  adding: vn_news_corpus/article_00004.txt (deflated 58%)\n"
          ]
        }
      ],
      "source": [
        "!zip -r vn_news_corpus.zip vn_news_corpus"
      ]
    },
    {
      "cell_type": "code",
      "execution_count": 7,
      "metadata": {
        "colab": {
          "base_uri": "https://localhost:8080/"
        },
        "id": "jn1R3V8tK7qe",
        "outputId": "eddbc238-f867-4250-94f8-5f7a61f102f2"
      },
      "outputs": [
        {
          "output_type": "stream",
          "name": "stdout",
          "text": [
            "Drive already mounted at /content/gdrive; to attempt to forcibly remount, call drive.mount(\"/content/gdrive\", force_remount=True).\n"
          ]
        }
      ],
      "source": [
        "from google.colab import drive\n",
        "\n",
        "drive.mount('/content/gdrive')"
      ]
    },
    {
      "cell_type": "code",
      "execution_count": 8,
      "metadata": {
        "id": "Cuo9U5-8LBit"
      },
      "outputs": [],
      "source": [
        "!cp '/content/vn_news_corpus.zip' '/content/gdrive/MyDrive'"
      ]
    },
    {
      "cell_type": "code",
      "source": [
        "!rm -r /content/vn_news_corpus\n"
      ],
      "metadata": {
        "id": "0-hmkGojmaNS"
      },
      "execution_count": 1,
      "outputs": []
    }
  ],
  "metadata": {
    "colab": {
      "provenance": [],
      "include_colab_link": true
    },
    "kernelspec": {
      "display_name": "Python 3",
      "name": "python3"
    },
    "language_info": {
      "name": "python"
    }
  },
  "nbformat": 4,
  "nbformat_minor": 0
}